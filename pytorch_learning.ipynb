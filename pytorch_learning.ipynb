{
  "nbformat": 4,
  "nbformat_minor": 0,
  "metadata": {
    "colab": {
      "provenance": [],
      "authorship_tag": "ABX9TyNqUEao141uD8zHc9y3tqQK",
      "include_colab_link": true
    },
    "kernelspec": {
      "name": "python3",
      "display_name": "Python 3"
    },
    "language_info": {
      "name": "python"
    }
  },
  "cells": [
    {
      "cell_type": "markdown",
      "metadata": {
        "id": "view-in-github",
        "colab_type": "text"
      },
      "source": [
        "<a href=\"https://colab.research.google.com/github/XyonX/pytorch-demo/blob/main/pytorch_learning.ipynb\" target=\"_parent\"><img src=\"https://colab.research.google.com/assets/colab-badge.svg\" alt=\"Open In Colab\"/></a>"
      ]
    },
    {
      "cell_type": "code",
      "execution_count": 1,
      "metadata": {
        "colab": {
          "base_uri": "https://localhost:8080/",
          "height": 35
        },
        "id": "XgZmT1DpAxM2",
        "outputId": "220d815d-fc49-4b8c-ba5e-dfc0d8b0f945"
      },
      "outputs": [
        {
          "output_type": "execute_result",
          "data": {
            "text/plain": [
              "'2.1.0+cu121'"
            ],
            "application/vnd.google.colaboratory.intrinsic+json": {
              "type": "string"
            }
          },
          "metadata": {},
          "execution_count": 1
        }
      ],
      "source": [
        "import torch\n",
        "from torch import nn # contains newral network fucntions\n",
        "import matplotlib.pyplot as plt\n",
        "\n",
        "# check pytorch version\n",
        "torch.__version__"
      ]
    },
    {
      "cell_type": "code",
      "source": [
        "# create known parameters\n",
        "weight = 0.7\n",
        "bias = 0.3\n",
        "\n",
        "# create data points\n",
        "start = 0\n",
        "end = 1\n",
        "step = 0.02\n",
        "\n",
        "# Generate input data (X)\n",
        "X = torch.arange(start, end, step).unsqueeze(dim=1)\n",
        "\n",
        "# Generate output data (y) using a linear equation: y = weight * X + bias\n",
        "y = weight * X + bias\n",
        "\n",
        "# Display the first 10 data points\n",
        "print(\"First 10 data points:\")\n",
        "print(\"X:\", X[:10])\n",
        "print(\"y:\", y[:10])\n"
      ],
      "metadata": {
        "id": "J46S0OQmBDfY",
        "colab": {
          "base_uri": "https://localhost:8080/"
        },
        "outputId": "ef89a218-0dab-40ab-9b87-11338b136780"
      },
      "execution_count": 3,
      "outputs": [
        {
          "output_type": "stream",
          "name": "stdout",
          "text": [
            "First 10 data points:\n",
            "X: tensor([[0.0000],\n",
            "        [0.0200],\n",
            "        [0.0400],\n",
            "        [0.0600],\n",
            "        [0.0800],\n",
            "        [0.1000],\n",
            "        [0.1200],\n",
            "        [0.1400],\n",
            "        [0.1600],\n",
            "        [0.1800]])\n",
            "y: tensor([[0.3000],\n",
            "        [0.3140],\n",
            "        [0.3280],\n",
            "        [0.3420],\n",
            "        [0.3560],\n",
            "        [0.3700],\n",
            "        [0.3840],\n",
            "        [0.3980],\n",
            "        [0.4120],\n",
            "        [0.4260]])\n"
          ]
        }
      ]
    },
    {
      "cell_type": "code",
      "source": [
        "len(X), len(y)"
      ],
      "metadata": {
        "colab": {
          "base_uri": "https://localhost:8080/"
        },
        "id": "tTjrJFXvPgbY",
        "outputId": "a20e4283-abd4-4e7a-ec49-dd4ee2e86eba"
      },
      "execution_count": null,
      "outputs": [
        {
          "output_type": "execute_result",
          "data": {
            "text/plain": [
              "(50, 50)"
            ]
          },
          "metadata": {},
          "execution_count": 4
        }
      ]
    },
    {
      "cell_type": "code",
      "source": [
        "#create a train/test split\n",
        "train_split = int(0.8* len(X))\n",
        "X_train, y_train = X[:train_split], y[:train_split]\n",
        "X_test, y_test = X[train_split:], y[train_split:]\n",
        "len(X_train),len(y_train),len(X_test),len(y_test)"
      ],
      "metadata": {
        "colab": {
          "base_uri": "https://localhost:8080/"
        },
        "id": "5gOprM3vPpVn",
        "outputId": "2962a24f-13d5-4b19-8623-4f606ba1a5c9"
      },
      "execution_count": 4,
      "outputs": [
        {
          "output_type": "execute_result",
          "data": {
            "text/plain": [
              "(40, 40, 10, 10)"
            ]
          },
          "metadata": {},
          "execution_count": 4
        }
      ]
    },
    {
      "cell_type": "code",
      "source": [
        "def plot_predictions( train_data = X_train,\n",
        "                     train_labels=y_train,\n",
        "                      test_data = X_test,\n",
        "                      test_labels=y_test,\n",
        "                      predictions=None\n",
        "                      ):\n",
        "  '''\n",
        "  plots training data, test data and compares predictions\n",
        "  '''\n",
        "\n",
        "  plt.figure(figsize=(10,7))\n",
        "\n",
        "  #plot training data\n",
        "  plt.scatter(train_data,train_labels, c=\"b\", s=4, label=\"Training data\")\n",
        "\n",
        "  #plot test data\n",
        "  plt.scatter(test_data, test_labels, c=\"g\", s=4, label=\"Test Data\")\n",
        "\n",
        "  if predictions is not None:\n",
        "    #plot the preditcions\n",
        "    plt.scatter(test_data,predictions,c=\"r\", s=4, label = \"Predictions\" )\n",
        "\n",
        "    #show the legends\n",
        "    plt.legend(prop={\"size\":14});\n"
      ],
      "metadata": {
        "id": "GveNUeIiRzT1"
      },
      "execution_count": 5,
      "outputs": []
    },
    {
      "cell_type": "code",
      "source": [
        "plot_predictions()"
      ],
      "metadata": {
        "id": "72VNp5E5UUSP"
      },
      "execution_count": null,
      "outputs": []
    },
    {
      "cell_type": "code",
      "source": [
        "from torch import nn\n",
        "## building our first pyorch model\n",
        "\n",
        "## create a linear regression model first\n",
        "\n",
        "class LinearRegressionModel(nn.Module): # Because almost everything from pytorch inherits from nn.Module\n",
        "  def __init__(self):\n",
        "    super().__init__()\n",
        "    self.weights=nn.Parameter(torch.randn(1,\n",
        "                                          requires_grad=True,\n",
        "                                          dtype=torch.float))\n",
        "    self.bias=nn.Parameter(torch.randn(1,\n",
        "                                          requires_grad=True,\n",
        "                                          dtype=torch.float))\n",
        "  #forward method to define the computation in the model\n",
        "  def forward(self, x:torch.Tensor)-> torch.Tensor: # x is the input data\n",
        "    return self.weights* x + self.bias # this is a linear regression formula\n"
      ],
      "metadata": {
        "id": "y2rWhieiXnQk"
      },
      "execution_count": 15,
      "outputs": []
    },
    {
      "cell_type": "markdown",
      "source": [
        "### pytorch model building essentials\n",
        "* torch.nn - contains all of the building block for the computational graph\n",
        "* torch.nn.Parameter - What parameter should our model try and learn, often a pytorch layer from torch.nn will set these for us\n",
        "*torch.nn.Module - The base class for all neural network modules, if you subclass it, you should override the forward()\n",
        "* torch.optim -this where the optimizer  in python live, they will help gradient descent\n",
        "*def forward()-All nn.module subclass require you to overrite forward"
      ],
      "metadata": {
        "id": "HRQkv45SiXWA"
      }
    },
    {
      "cell_type": "code",
      "source": [
        "#create a random seed\n",
        "torch.manual_seed(42)\n",
        "\n",
        "#create an instanc e of the model\n",
        "model_0 = LinearRegressionModel()\n",
        "\n",
        "#check out the parameters\n",
        "list(model_0.parameters())\n",
        "\n",
        "\n",
        "\n"
      ],
      "metadata": {
        "colab": {
          "base_uri": "https://localhost:8080/"
        },
        "id": "n5m_5FSJiCnZ",
        "outputId": "38ec34be-1fc6-447a-cc62-e5b571ce4684"
      },
      "execution_count": 16,
      "outputs": [
        {
          "output_type": "execute_result",
          "data": {
            "text/plain": [
              "[Parameter containing:\n",
              " tensor([0.3367], requires_grad=True),\n",
              " Parameter containing:\n",
              " tensor([0.1288], requires_grad=True)]"
            ]
          },
          "metadata": {},
          "execution_count": 16
        }
      ]
    },
    {
      "cell_type": "code",
      "source": [
        "#List names parameters\n",
        "model_0.state_dict()"
      ],
      "metadata": {
        "colab": {
          "base_uri": "https://localhost:8080/"
        },
        "id": "Yxfq7zYxnSDp",
        "outputId": "2eafc309-1916-4ef1-fd2d-7a237eca21c3"
      },
      "execution_count": 17,
      "outputs": [
        {
          "output_type": "execute_result",
          "data": {
            "text/plain": [
              "OrderedDict([('weights', tensor([0.3367])), ('bias', tensor([0.1288]))])"
            ]
          },
          "metadata": {},
          "execution_count": 17
        }
      ]
    },
    {
      "cell_type": "markdown",
      "source": [],
      "metadata": {
        "id": "mq_R75tQPBzz"
      }
    },
    {
      "cell_type": "code",
      "source": [
        "#making prediction wiht model\n",
        "# this inference mode makes the prediction faster\n",
        "# or we can use directly like this y_preds = model_0(X_test) to get the output\n",
        "with torch.inference_mode():\n",
        "  y_preds = model_0(X_test)\n",
        "\n",
        "y_preds\n"
      ],
      "metadata": {
        "colab": {
          "base_uri": "https://localhost:8080/"
        },
        "id": "MwZH3kcLNUce",
        "outputId": "ed17f456-f4e6-47b0-c1dd-72deb1dbc2ee"
      },
      "execution_count": 18,
      "outputs": [
        {
          "output_type": "execute_result",
          "data": {
            "text/plain": [
              "tensor([[0.3982],\n",
              "        [0.4049],\n",
              "        [0.4116],\n",
              "        [0.4184],\n",
              "        [0.4251],\n",
              "        [0.4318],\n",
              "        [0.4386],\n",
              "        [0.4453],\n",
              "        [0.4520],\n",
              "        [0.4588]])"
            ]
          },
          "metadata": {},
          "execution_count": 18
        }
      ]
    },
    {
      "cell_type": "code",
      "source": [
        "plot_predictions(predictions=y_preds)"
      ],
      "metadata": {
        "colab": {
          "base_uri": "https://localhost:8080/",
          "height": 599
        },
        "id": "iEvW_tP6QjNG",
        "outputId": "4d87489d-9005-4e46-93cb-12f3f461d5ab"
      },
      "execution_count": 21,
      "outputs": [
        {
          "output_type": "display_data",
          "data": {
            "text/plain": [
              "<Figure size 1000x700 with 1 Axes>"
            ],
            "image/png": "[encoded data removed]"
          },
          "metadata": {}
        }
      ]
    },
    {
      "cell_type": "markdown",
      "source": [
        "# Data\n",
        "###Data could be anything\n",
        "1. Excel spreadsheet\n",
        "2. images\n",
        "3. video\n",
        "4. Audio\n",
        "\n",
        "##ML Is a game of two parts:\n",
        "  1. Get data into a numberical representaion\n",
        "  2. Build a model to learn patterns in that numerical representation\n",
        "  \n"
      ],
      "metadata": {
        "id": "YeeHTEXpEEVm"
      }
    },
    {
      "cell_type": "markdown",
      "source": [
        "## Number of models data we are gonna build\n",
        "\n",
        "Set can be considered as the material or data need to evaluate the result\n",
        " 1. Training set # To do the model testign\n",
        " 2. Validation set # Optional\n",
        " 3. Testing set # The final set"
      ],
      "metadata": {
        "id": "lH7xLffPPFB_"
      }
    },
    {
      "cell_type": "markdown",
      "source": [
        "\n",
        "What will the model do :\n",
        "- start with random values\n",
        "- Look at training data and adjust the random values to better represent the ideal values\n",
        "\n",
        "How does it do so\n",
        "- Through two main algorithm\n",
        "- Backpropagation\n",
        "\n",
        "\n",
        "\n"
      ],
      "metadata": {
        "id": "GjFnltPafhNw"
      }
    }
  ]
}