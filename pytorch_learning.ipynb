{
  "nbformat": 4,
  "nbformat_minor": 0,
  "metadata": {
    "colab": {
      "provenance": [],
      "authorship_tag": "ABX9TyOmcXwbBdwH05c4NBtUDLwG",
      "include_colab_link": true
    },
    "kernelspec": {
      "name": "python3",
      "display_name": "Python 3"
    },
    "language_info": {
      "name": "python"
    }
  },
  "cells": [
    {
      "cell_type": "markdown",
      "metadata": {
        "id": "view-in-github",
        "colab_type": "text"
      },
      "source": [
        "<a href=\"https://colab.research.google.com/github/XyonX/pytorch-demo/blob/main/pytorch_learning.ipynb\" target=\"_parent\"><img src=\"https://colab.research.google.com/assets/colab-badge.svg\" alt=\"Open In Colab\"/></a>"
      ]
    },
    {
      "cell_type": "code",
      "execution_count": 2,
      "metadata": {
        "colab": {
          "base_uri": "https://localhost:8080/",
          "height": 35
        },
        "id": "XgZmT1DpAxM2",
        "outputId": "bdf57b9b-3eaf-4834-bf20-dce699f28ace"
      },
      "outputs": [
        {
          "output_type": "execute_result",
          "data": {
            "text/plain": [
              "'2.1.0+cu121'"
            ],
            "application/vnd.google.colaboratory.intrinsic+json": {
              "type": "string"
            }
          },
          "metadata": {},
          "execution_count": 2
        }
      ],
      "source": [
        "import torch\n",
        "from torch import nn # contains newral network fucntions\n",
        "import matplotlib.pyplot as plt\n",
        "\n",
        "# check pytorch version\n",
        "torch.__version__"
      ]
    },
    {
      "cell_type": "code",
      "source": [
        "#create known parameters\n",
        "weight = 0.7\n",
        "bias = 0.3\n",
        "\n",
        "#create\n",
        "start = 0\n",
        "end = 1\n",
        "step = 0.02\n",
        "X = torch.arange(start,end,step).unsqueeze(dim=1)\n",
        "y = weight * X + bias\n",
        "\n",
        "X[:10] ,y[:10]"
      ],
      "metadata": {
        "id": "J46S0OQmBDfY",
        "colab": {
          "base_uri": "https://localhost:8080/"
        },
        "outputId": "401b2ecb-f35c-4d25-e40b-bd276c15f076"
      },
      "execution_count": 3,
      "outputs": [
        {
          "output_type": "execute_result",
          "data": {
            "text/plain": [
              "(tensor([[0.0000],\n",
              "         [0.0200],\n",
              "         [0.0400],\n",
              "         [0.0600],\n",
              "         [0.0800],\n",
              "         [0.1000],\n",
              "         [0.1200],\n",
              "         [0.1400],\n",
              "         [0.1600],\n",
              "         [0.1800]]),\n",
              " tensor([[0.3000],\n",
              "         [0.3140],\n",
              "         [0.3280],\n",
              "         [0.3420],\n",
              "         [0.3560],\n",
              "         [0.3700],\n",
              "         [0.3840],\n",
              "         [0.3980],\n",
              "         [0.4120],\n",
              "         [0.4260]]))"
            ]
          },
          "metadata": {},
          "execution_count": 3
        }
      ]
    },
    {
      "cell_type": "code",
      "source": [
        "len(X), len(y)"
      ],
      "metadata": {
        "colab": {
          "base_uri": "https://localhost:8080/"
        },
        "id": "tTjrJFXvPgbY",
        "outputId": "a20e4283-abd4-4e7a-ec49-dd4ee2e86eba"
      },
      "execution_count": 4,
      "outputs": [
        {
          "output_type": "execute_result",
          "data": {
            "text/plain": [
              "(50, 50)"
            ]
          },
          "metadata": {},
          "execution_count": 4
        }
      ]
    },
    {
      "cell_type": "code",
      "source": [
        "#create a train/test split\n",
        "train_split = int(0.8* len(X))\n",
        "X_train, y_train = X[:train_split], y[:train_split]\n",
        "X_test, y_test = X[train_split:], y[train_split:]\n",
        "len(X_train),len(y_train),len(X_test),len(y_test)"
      ],
      "metadata": {
        "colab": {
          "base_uri": "https://localhost:8080/"
        },
        "id": "5gOprM3vPpVn",
        "outputId": "e8fd2871-81f5-4fef-ddbb-3a314ccec265"
      },
      "execution_count": 5,
      "outputs": [
        {
          "output_type": "execute_result",
          "data": {
            "text/plain": [
              "(40, 40, 10, 10)"
            ]
          },
          "metadata": {},
          "execution_count": 5
        }
      ]
    },
    {
      "cell_type": "code",
      "source": [
        "def plot_predictions( train_data = X_train,\n",
        "                     train_labels=y_train,\n",
        "                      test_data = X_test,\n",
        "                      test_labels=y_test,\n",
        "                      predictions=None\n",
        "                      ):\n",
        "  '''\n",
        "  plots training data, test data and compares predictions\n",
        "  '''\n",
        "\n",
        "  plt.figure(figsize=(10,7))\n",
        "\n",
        "  #plot training data\n",
        "  plt.scatter(train_data,train_labels, c=\"b\", s=4, label=\"Training data\")\n",
        "\n",
        "  #plot test data\n",
        "  plt.scatter(test_data, test_labels, c=\"g\", s=4, label=\"Test Data\")\n",
        "\n",
        "  if predictions is not None:\n",
        "    #plot the preditcions\n",
        "    plt.scatter(test_data,predictions,c=\"r\", s=4, label = \"Predictions\" )\n",
        "\n",
        "    #show the legends\n",
        "    plt.legend(prop={\"size\":14});\n"
      ],
      "metadata": {
        "id": "GveNUeIiRzT1"
      },
      "execution_count": 6,
      "outputs": []
    },
    {
      "cell_type": "code",
      "source": [
        "plot_predictions()"
      ],
      "metadata": {
        "id": "72VNp5E5UUSP"
      },
      "execution_count": null,
      "outputs": []
    },
    {
      "cell_type": "code",
      "source": [
        "from torch import nn\n",
        "## building our first pyorch model\n",
        "\n",
        "## create a linear regression model first\n",
        "\n",
        "class LinearRegressionModel(nn.Module): # Because almost everything from pytorch inherits from nn.Module\n",
        "  def __init__(self):\n",
        "    super().__init__()\n",
        "    self.weights=nn.Parameter(torch.randn(1,\n",
        "                                          requires_grad=True,\n",
        "                                          dtype=torch.float))\n",
        "    self.bias=nn.Parameter(torch.randn(1,\n",
        "                                          requires_grad=True,\n",
        "                                          dtype=torch.float))\n",
        "    #forward method to define the computation in the model\n",
        "    def forward(self, x:torch.Tensor)-> torch.Tensor: # x is the input data\n",
        "      return self.weights* x + self.bias # this is a linear regression formula\n"
      ],
      "metadata": {
        "id": "y2rWhieiXnQk"
      },
      "execution_count": 9,
      "outputs": []
    },
    {
      "cell_type": "markdown",
      "source": [
        "### pytorch model building essentials\n",
        "* torch.nn - contains all of the building block for the computational graph\n",
        "* torch.nn.Parameter - What parameter should our model try and learn, often a pytorch layer from torch.nn will set these for us\n",
        "*torch.nn.Module - The base class for all neural network modules, if you subclass it, you should override the forward()\n",
        "* torch.optim -this where the optimizer  in python live, they will help gradient descent\n",
        "*def forward()-All nn.module subclass require you to overrite forward"
      ],
      "metadata": {
        "id": "HRQkv45SiXWA"
      }
    },
    {
      "cell_type": "code",
      "source": [
        "#create a random seed\n",
        "torch.manual_seed(42)\n",
        "\n",
        "#create an instanc e of the model\n",
        "model_0 = LinearRegressionModel()\n",
        "\n",
        "#check out the parameters\n",
        "list(model_0.parameters())\n",
        "\n",
        "\n",
        "\n"
      ],
      "metadata": {
        "colab": {
          "base_uri": "https://localhost:8080/"
        },
        "id": "n5m_5FSJiCnZ",
        "outputId": "dc229867-7eed-48da-a154-33b2b768f34c"
      },
      "execution_count": 13,
      "outputs": [
        {
          "output_type": "execute_result",
          "data": {
            "text/plain": [
              "[Parameter containing:\n",
              " tensor([0.3367], requires_grad=True),\n",
              " Parameter containing:\n",
              " tensor([0.1288], requires_grad=True)]"
            ]
          },
          "metadata": {},
          "execution_count": 13
        }
      ]
    },
    {
      "cell_type": "code",
      "source": [
        "#List names parameters\n",
        "model_0.state_dict()"
      ],
      "metadata": {
        "colab": {
          "base_uri": "https://localhost:8080/"
        },
        "id": "Yxfq7zYxnSDp",
        "outputId": "365d9822-43fc-4a23-d618-122eeffa9dba"
      },
      "execution_count": 14,
      "outputs": [
        {
          "output_type": "execute_result",
          "data": {
            "text/plain": [
              "OrderedDict([('weights', tensor([0.3367])), ('bias', tensor([0.1288]))])"
            ]
          },
          "metadata": {},
          "execution_count": 14
        }
      ]
    },
    {
      "cell_type": "markdown",
      "source": [],
      "metadata": {
        "id": "mq_R75tQPBzz"
      }
    },
    {
      "cell_type": "markdown",
      "source": [
        "# Data\n",
        "###Data could be anything\n",
        "1. Excel spreadsheet\n",
        "2. images\n",
        "3. video\n",
        "4. Audio\n",
        "\n",
        "##ML Is a game of two parts:\n",
        "  1. Get data into a numberical representaion\n",
        "  2. Build a model to learn patterns in that numerical representation\n",
        "  \n"
      ],
      "metadata": {
        "id": "YeeHTEXpEEVm"
      }
    },
    {
      "cell_type": "markdown",
      "source": [
        "## Number of models data we are gonna build\n",
        "\n",
        "Set can be considered as the material or data need to evaluate the result\n",
        " 1. Training set # To do the model testign\n",
        " 2. Validation set # Optional\n",
        " 3. Testing set # The final set"
      ],
      "metadata": {
        "id": "lH7xLffPPFB_"
      }
    },
    {
      "cell_type": "markdown",
      "source": [
        "\n",
        "What will the model do :\n",
        "- start with random values\n",
        "- Look at training data and adjust the random values to better represent the ideal values\n",
        "\n",
        "How does it do so\n",
        "- Through two main algorithm\n",
        "- Backpropagation\n",
        "\n",
        "\n",
        "\n"
      ],
      "metadata": {
        "id": "GjFnltPafhNw"
      }
    }
  ]
}